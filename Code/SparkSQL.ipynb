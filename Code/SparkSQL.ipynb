{
 "cells": [
  {
   "cell_type": "code",
   "execution_count": 1,
   "id": "7ce69fb8-811a-4b7a-bf49-188b7a073ae7",
   "metadata": {},
   "outputs": [],
   "source": [
    "import findspark\n",
    "findspark.init()\n",
    "import pyspark\n",
    "from pyspark.sql import SparkSession"
   ]
  },
  {
   "cell_type": "code",
   "execution_count": 2,
   "id": "6b0fa21c-6b12-4a36-9004-196d5c4f1c6c",
   "metadata": {},
   "outputs": [
    {
     "name": "stderr",
     "output_type": "stream",
     "text": [
      "Setting default log level to \"WARN\".\n",
      "To adjust logging level use sc.setLogLevel(newLevel). For SparkR, use setLogLevel(newLevel).\n",
      "24/03/18 20:53:26 WARN NativeCodeLoader: Unable to load native-hadoop library for your platform... using builtin-java classes where applicable\n",
      "----------------------------------------\n",
      "Exception occurred during processing of request from ('127.0.0.1', 60101)\n",
      "Traceback (most recent call last):\n",
      "  File \"/Library/Frameworks/Python.framework/Versions/3.10/lib/python3.10/socketserver.py\", line 316, in _handle_request_noblock\n",
      "    self.process_request(request, client_address)\n",
      "  File \"/Library/Frameworks/Python.framework/Versions/3.10/lib/python3.10/socketserver.py\", line 347, in process_request\n",
      "    self.finish_request(request, client_address)\n",
      "  File \"/Library/Frameworks/Python.framework/Versions/3.10/lib/python3.10/socketserver.py\", line 360, in finish_request\n",
      "    self.RequestHandlerClass(request, client_address, self)\n",
      "  File \"/Library/Frameworks/Python.framework/Versions/3.10/lib/python3.10/socketserver.py\", line 747, in __init__\n",
      "    self.handle()\n",
      "  File \"/Library/Frameworks/Python.framework/Versions/3.10/lib/python3.10/site-packages/pyspark/accumulators.py\", line 295, in handle\n",
      "    poll(accum_updates)\n",
      "  File \"/Library/Frameworks/Python.framework/Versions/3.10/lib/python3.10/site-packages/pyspark/accumulators.py\", line 267, in poll\n",
      "    if self.rfile in r and func():\n",
      "  File \"/Library/Frameworks/Python.framework/Versions/3.10/lib/python3.10/site-packages/pyspark/accumulators.py\", line 271, in accum_updates\n",
      "    num_updates = read_int(self.rfile)\n",
      "  File \"/Library/Frameworks/Python.framework/Versions/3.10/lib/python3.10/site-packages/pyspark/serializers.py\", line 596, in read_int\n",
      "    raise EOFError\n",
      "EOFError\n",
      "----------------------------------------\n"
     ]
    }
   ],
   "source": [
    "spark = SparkSession.builder.master(\"local[1]\") \\\n",
    "                    .appName('sparkEx') \\\n",
    "                    .getOrCreate()"
   ]
  },
  {
   "cell_type": "code",
   "execution_count": 5,
   "id": "4eca30f9-136b-4dd5-82eb-df2470b1de7f",
   "metadata": {},
   "outputs": [],
   "source": [
    "df = spark.read.csv('/Users/shaytavor/Dropbox/Public/Knowledge Base/Spark/Data/USACities.csv', header = 'True', inferSchema = 'True')"
   ]
  },
  {
   "cell_type": "code",
   "execution_count": 6,
   "id": "50a23ab1-840d-4b66-9520-66a627dc96da",
   "metadata": {},
   "outputs": [
    {
     "data": {
      "text/plain": [
       "200"
      ]
     },
     "execution_count": 6,
     "metadata": {},
     "output_type": "execute_result"
    }
   ],
   "source": [
    "df.count()"
   ]
  },
  {
   "cell_type": "code",
   "execution_count": 7,
   "id": "2c628442-c66d-42dc-9a09-34c89c549451",
   "metadata": {},
   "outputs": [],
   "source": [
    "df.createOrReplaceTempView(\"Cities\")"
   ]
  },
  {
   "cell_type": "code",
   "execution_count": 8,
   "id": "f5b1dc95-a555-4f20-a21a-d8a2d331c9a9",
   "metadata": {},
   "outputs": [
    {
     "name": "stdout",
     "output_type": "stream",
     "text": [
      "+-------------+-------+\n",
      "|         name|pop2021|\n",
      "+-------------+-------+\n",
      "|New York City|8230290|\n",
      "|  Los Angeles|3983540|\n",
      "|      Chicago|2679080|\n",
      "|      Houston|2323660|\n",
      "|      Phoenix|1733630|\n",
      "| Philadelphia|1585010|\n",
      "|  San Antonio|1581730|\n",
      "|    San Diego|1427720|\n",
      "|       Dallas|1347120|\n",
      "|       Austin|1011790|\n",
      "|     San Jose|1009340|\n",
      "|   Fort Worth| 942323|\n",
      "| Jacksonville| 929647|\n",
      "|     Columbus| 913921|\n",
      "|    Charlotte| 912096|\n",
      "| Indianapolis| 887232|\n",
      "|San Francisco| 883255|\n",
      "|      Seattle| 776555|\n",
      "|       Denver| 749103|\n",
      "|   Washington| 714153|\n",
      "+-------------+-------+\n",
      "only showing top 20 rows\n",
      "\n"
     ]
    }
   ],
   "source": [
    "res = spark.sql(\"select name, pop2021 from Cities\")\n",
    "res.show()"
   ]
  },
  {
   "cell_type": "code",
   "execution_count": 9,
   "id": "6b15f38c-c906-4961-871c-9e3a54dfdde7",
   "metadata": {},
   "outputs": [
    {
     "name": "stdout",
     "output_type": "stream",
     "text": [
      "+----+-------------+----+-------+-------+-------+----------+\n",
      "|rank|         name|usps|pop2021|pop2010| growth|aland_sqmi|\n",
      "+----+-------------+----+-------+-------+-------+----------+\n",
      "|   1|New York City|  NY|8230290|8190210| 0.0049|   300.381|\n",
      "|   2|  Los Angeles|  CA|3983540|3795510| 0.0495|   468.956|\n",
      "|   3|      Chicago|  IL|2679080|2697480|-0.0068|   227.369|\n",
      "|   4|      Houston|  TX|2323660|2100280| 0.1064|   640.194|\n",
      "|   5|      Phoenix|  AZ|1733630|1449040| 0.1964|   517.673|\n",
      "|   6| Philadelphia|  PA|1585010|1528280| 0.0371|   134.279|\n",
      "|   7|  San Antonio|  TX|1581730|1332300| 0.1872|   485.113|\n",
      "|   8|    San Diego|  CA|1427720|1305910| 0.0933|   325.877|\n",
      "|   9|       Dallas|  TX|1347120|1200350| 0.1223|   339.736|\n",
      "|  10|       Austin|  TX|1011790| 806164| 0.2551|   319.939|\n",
      "|  11|     San Jose|  CA|1009340| 954940|  0.057|   177.808|\n",
      "|  12|   Fort Worth|  TX| 942323| 748441|  0.259|   345.584|\n",
      "|  13| Jacksonville|  FL| 929647| 823114| 0.1294|   747.467|\n",
      "|  14|     Columbus|  OH| 913921| 790943| 0.1555|   219.197|\n",
      "|  15|    Charlotte|  NC| 912096| 738444| 0.2352|   307.238|\n",
      "|  16| Indianapolis|  IN| 887232| 821579| 0.0799|   361.571|\n",
      "|  17|San Francisco|  CA| 883255| 805505| 0.0965|    46.903|\n",
      "|  18|      Seattle|  WA| 776555| 610630| 0.2717|    83.862|\n",
      "|  19|       Denver|  CO| 749103| 603359| 0.2416|   153.292|\n",
      "|  20|   Washington|  DC| 714153| 605226|   0.18|    61.136|\n",
      "+----+-------------+----+-------+-------+-------+----------+\n",
      "only showing top 20 rows\n",
      "\n"
     ]
    }
   ],
   "source": [
    "df.select(\"*\").show()"
   ]
  },
  {
   "cell_type": "code",
   "execution_count": 12,
   "id": "cd59e137-96f6-4aca-a8f7-cbac71efa974",
   "metadata": {},
   "outputs": [
    {
     "name": "stdout",
     "output_type": "stream",
     "text": [
      "+----+--------------+----+-------+-------+-------+----------+\n",
      "|rank|          name|usps|pop2021|pop2010| growth|aland_sqmi|\n",
      "+----+--------------+----+-------+-------+-------+----------+\n",
      "|   2|   Los Angeles|  CA|3983540|3795510| 0.0495|   468.956|\n",
      "|   8|     San Diego|  CA|1427720|1305910| 0.0933|   325.877|\n",
      "|  11|      San Jose|  CA|1009340| 954940|  0.057|   177.808|\n",
      "|  17| San Francisco|  CA| 883255| 805505| 0.0965|    46.903|\n",
      "|  35|        Fresno|  CA| 537100| 497769|  0.079|   114.725|\n",
      "|  36|    Sacramento|  CA| 525398| 467286| 0.1244|     97.73|\n",
      "|  43|    Long Beach|  CA| 456154| 462431|-0.0136|    50.696|\n",
      "|  45|       Oakland|  CA| 440981| 391406| 0.1267|    55.893|\n",
      "|  51|   Bakersfield|  CA| 389007| 348987| 0.1147|   149.758|\n",
      "|  55|       Anaheim|  CA| 349699| 336760| 0.0384|     50.32|\n",
      "|  58|     Riverside|  CA| 334772| 305466| 0.0959|    81.258|\n",
      "|  59|     Santa Ana|  CA| 333130| 325327|  0.024|    27.361|\n",
      "|  63|      Stockton|  CA| 314835| 292888| 0.0749|    62.172|\n",
      "|  68|        Irvine|  CA| 298739| 213450| 0.3996|    65.619|\n",
      "|  76|   Chula Vista|  CA| 281838| 244648|  0.152|    49.641|\n",
      "|  93|       Fremont|  CA| 247708| 214553| 0.1545|    77.465|\n",
      "| 104| Moreno Valley|  CA| 221387| 194240| 0.1398|    51.257|\n",
      "| 106|       Fontana|  CA| 217237| 197317|  0.101|    43.072|\n",
      "| 107|       Modesto|  CA| 216810| 203301| 0.0664|    42.977|\n",
      "| 110|San Bernardino|  CA| 214706| 210637| 0.0193|    62.108|\n",
      "+----+--------------+----+-------+-------+-------+----------+\n",
      "only showing top 20 rows\n",
      "\n"
     ]
    }
   ],
   "source": [
    "df.where(df.usps == 'CA').show()"
   ]
  },
  {
   "cell_type": "code",
   "execution_count": 22,
   "id": "798c4069-d216-4981-9b52-e2d1b94ce482",
   "metadata": {},
   "outputs": [
    {
     "name": "stdout",
     "output_type": "stream",
     "text": [
      "+----+-----+\n",
      "|usps|count|\n",
      "+----+-----+\n",
      "|  CA|   39|\n",
      "|  TX|   26|\n",
      "|  FL|   13|\n",
      "|  AZ|   10|\n",
      "|  NV|    8|\n",
      "|  VA|    7|\n",
      "|  NC|    7|\n",
      "|  TN|    6|\n",
      "|  CO|    6|\n",
      "|  IL|    5|\n",
      "|  WA|    5|\n",
      "|  OH|    5|\n",
      "|  LA|    4|\n",
      "|  AL|    4|\n",
      "|  NY|    4|\n",
      "|  GA|    4|\n",
      "|  KS|    4|\n",
      "|  NJ|    3|\n",
      "|  OR|    3|\n",
      "|  MO|    3|\n",
      "+----+-----+\n",
      "only showing top 20 rows\n",
      "\n"
     ]
    }
   ],
   "source": [
    "df.groupBy('usps').count().sort('count', ascending = False).show()"
   ]
  },
  {
   "cell_type": "code",
   "execution_count": 23,
   "id": "cbe2e481-2e05-49a4-86ea-62e4c4a0d4f0",
   "metadata": {},
   "outputs": [],
   "source": [
    "def popDiff(pop2021, pop2010):\n",
    "    return pop2021 - pop2010"
   ]
  },
  {
   "cell_type": "code",
   "execution_count": 29,
   "id": "1a954cee-240d-4c17-a037-a0590626b27c",
   "metadata": {},
   "outputs": [],
   "source": [
    "from pyspark.sql.functions import col, udf\n",
    "from pyspark.sql.types import IntegerType, DoubleType"
   ]
  },
  {
   "cell_type": "code",
   "execution_count": 26,
   "id": "158a4af5-df52-4913-b591-27cfabfd4633",
   "metadata": {},
   "outputs": [],
   "source": [
    "convertUDF = udf(lambda x, y : popDiff(x, y), IntegerType())"
   ]
  },
  {
   "cell_type": "code",
   "execution_count": 28,
   "id": "bb08f99e-4e0d-49e0-b128-ab7fb504703b",
   "metadata": {},
   "outputs": [
    {
     "name": "stdout",
     "output_type": "stream",
     "text": [
      "+-------------+------+\n",
      "|         name|  diff|\n",
      "+-------------+------+\n",
      "|New York City| 40080|\n",
      "|  Los Angeles|188030|\n",
      "|      Chicago|-18400|\n",
      "|      Houston|223380|\n",
      "|      Phoenix|284590|\n",
      "| Philadelphia| 56730|\n",
      "|  San Antonio|249430|\n",
      "|    San Diego|121810|\n",
      "|       Dallas|146770|\n",
      "|       Austin|205626|\n",
      "|     San Jose| 54400|\n",
      "|   Fort Worth|193882|\n",
      "| Jacksonville|106533|\n",
      "|     Columbus|122978|\n",
      "|    Charlotte|173652|\n",
      "| Indianapolis| 65653|\n",
      "|San Francisco| 77750|\n",
      "|      Seattle|165925|\n",
      "|       Denver|145744|\n",
      "|   Washington|108927|\n",
      "+-------------+------+\n",
      "only showing top 20 rows\n",
      "\n"
     ]
    }
   ],
   "source": [
    "df.select(df.name, convertUDF(df.pop2021, df.pop2010).alias('diff')).show()"
   ]
  },
  {
   "cell_type": "code",
   "execution_count": 30,
   "id": "9641860a-acf3-4028-aab1-9bfb63b1d5b6",
   "metadata": {},
   "outputs": [],
   "source": [
    "def density(pop2021, sqmi):\n",
    "    return pop2021 / sqmi"
   ]
  },
  {
   "cell_type": "code",
   "execution_count": 31,
   "id": "94e18942-849d-434d-85a8-da44bd69f18f",
   "metadata": {},
   "outputs": [],
   "source": [
    "densityUDF = udf(lambda x, y: density(x, y), DoubleType())"
   ]
  },
  {
   "cell_type": "code",
   "execution_count": 32,
   "id": "77eee7ef-fdf0-41a6-9520-4e3e084dc92e",
   "metadata": {},
   "outputs": [
    {
     "name": "stdout",
     "output_type": "stream",
     "text": [
      "+----+-------------+----+-------+-------+-------+----------+------------------+\n",
      "|rank|         name|usps|pop2021|pop2010| growth|aland_sqmi|           density|\n",
      "+----+-------------+----+-------+-------+-------+----------+------------------+\n",
      "|   1|New York City|  NY|8230290|8190210| 0.0049|   300.381|27399.502631657797|\n",
      "|   2|  Los Angeles|  CA|3983540|3795510| 0.0495|   468.956|  8494.48562338471|\n",
      "|   3|      Chicago|  IL|2679080|2697480|-0.0068|   227.369|11782.960737831454|\n",
      "|   4|      Houston|  TX|2323660|2100280| 0.1064|   640.194|3629.6185218855535|\n",
      "|   5|      Phoenix|  AZ|1733630|1449040| 0.1964|   517.673| 3348.890129483284|\n",
      "|   6| Philadelphia|  PA|1585010|1528280| 0.0371|   134.279|11803.856150254322|\n",
      "|   7|  San Antonio|  TX|1581730|1332300| 0.1872|   485.113|3260.5392970297644|\n",
      "|   8|    San Diego|  CA|1427720|1305910| 0.0933|   325.877| 4381.162217646535|\n",
      "|   9|       Dallas|  TX|1347120|1200350| 0.1223|   339.736| 3965.196505521935|\n",
      "|  10|       Austin|  TX|1011790| 806164| 0.2551|   319.939| 3162.446591381482|\n",
      "|  11|     San Jose|  CA|1009340| 954940|  0.057|   177.808| 5676.572482677945|\n",
      "|  12|   Fort Worth|  TX| 942323| 748441|  0.259|   345.584|2726.7552895967406|\n",
      "|  13| Jacksonville|  FL| 929647| 823114| 0.1294|   747.467|1243.7298235239816|\n",
      "|  14|     Columbus|  OH| 913921| 790943| 0.1555|   219.197|4169.4046907576285|\n",
      "|  15|    Charlotte|  NC| 912096| 738444| 0.2352|   307.238|2968.6952785788217|\n",
      "|  16| Indianapolis|  IN| 887232| 821579| 0.0799|   361.571|2453.8251131866214|\n",
      "|  17|San Francisco|  CA| 883255| 805505| 0.0965|    46.903| 18831.52463595079|\n",
      "|  18|      Seattle|  WA| 776555| 610630| 0.2717|    83.862|  9259.91509861439|\n",
      "|  19|       Denver|  CO| 749103| 603359| 0.2416|   153.292| 4886.771651488662|\n",
      "|  20|   Washington|  DC| 714153| 605226|   0.18|    61.136|11681.382491494373|\n",
      "+----+-------------+----+-------+-------+-------+----------+------------------+\n",
      "only showing top 20 rows\n",
      "\n"
     ]
    }
   ],
   "source": [
    "df.withColumn('density', densityUDF(df.pop2021, df.aland_sqmi)).show()"
   ]
  },
  {
   "cell_type": "code",
   "execution_count": 33,
   "id": "e9b1b562-3e2d-494a-baba-fe06b4dd584c",
   "metadata": {},
   "outputs": [
    {
     "data": {
      "text/plain": [
       "<function __main__.popDiff(pop2021, pop2010)>"
      ]
     },
     "execution_count": 33,
     "metadata": {},
     "output_type": "execute_result"
    }
   ],
   "source": [
    "spark.udf.register('convertUDF', popDiff, IntegerType())"
   ]
  },
  {
   "cell_type": "code",
   "execution_count": 34,
   "id": "5d27efcc-21ec-46b1-a057-16de0f41a9ca",
   "metadata": {},
   "outputs": [],
   "source": [
    "df.createOrReplaceTempView('Cities')"
   ]
  },
  {
   "cell_type": "code",
   "execution_count": 35,
   "id": "5ab56e89-2503-4e74-a4fa-6d644a4ffa4c",
   "metadata": {},
   "outputs": [
    {
     "name": "stdout",
     "output_type": "stream",
     "text": [
      "+-------------+-------+\n",
      "|         name|popDiff|\n",
      "+-------------+-------+\n",
      "|New York City|  40080|\n",
      "|  Los Angeles| 188030|\n",
      "|      Chicago| -18400|\n",
      "|      Houston| 223380|\n",
      "|      Phoenix| 284590|\n",
      "| Philadelphia|  56730|\n",
      "|  San Antonio| 249430|\n",
      "|    San Diego| 121810|\n",
      "|       Dallas| 146770|\n",
      "|       Austin| 205626|\n",
      "|     San Jose|  54400|\n",
      "|   Fort Worth| 193882|\n",
      "| Jacksonville| 106533|\n",
      "|     Columbus| 122978|\n",
      "|    Charlotte| 173652|\n",
      "| Indianapolis|  65653|\n",
      "|San Francisco|  77750|\n",
      "|      Seattle| 165925|\n",
      "|       Denver| 145744|\n",
      "|   Washington| 108927|\n",
      "+-------------+-------+\n",
      "only showing top 20 rows\n",
      "\n"
     ]
    }
   ],
   "source": [
    "spark.sql('select name, convertUDF(pop2021, pop2010) as popDiff from Cities').show()"
   ]
  },
  {
   "cell_type": "code",
   "execution_count": 36,
   "id": "5b89148c-a210-4449-913f-abe7478ddf21",
   "metadata": {},
   "outputs": [],
   "source": [
    "dfStates = spark.read.csv('/Users/shaytavor/Dropbox/Public/Knowledge Base/Spark/Data/USAStates.csv', header = 'True', inferSchema = 'True')"
   ]
  },
  {
   "cell_type": "code",
   "execution_count": 39,
   "id": "18fbc2f5-3a28-4661-88d2-7bada870af98",
   "metadata": {},
   "outputs": [
    {
     "name": "stdout",
     "output_type": "stream",
     "text": [
      "+----+-------------+----+-------+-------+-------+----------+--------------------+\n",
      "|rank|         name|usps|pop2021|pop2010| growth|aland_sqmi|               State|\n",
      "+----+-------------+----+-------+-------+-------+----------+--------------------+\n",
      "|   1|New York City|  NY|8230290|8190210| 0.0049|   300.381|            New York|\n",
      "|   2|  Los Angeles|  CA|3983540|3795510| 0.0495|   468.956|          California|\n",
      "|   3|      Chicago|  IL|2679080|2697480|-0.0068|   227.369|            Illinois|\n",
      "|   4|      Houston|  TX|2323660|2100280| 0.1064|   640.194|               Texas|\n",
      "|   5|      Phoenix|  AZ|1733630|1449040| 0.1964|   517.673|             Arizona|\n",
      "|   6| Philadelphia|  PA|1585010|1528280| 0.0371|   134.279|        Pennsylvania|\n",
      "|   7|  San Antonio|  TX|1581730|1332300| 0.1872|   485.113|               Texas|\n",
      "|   8|    San Diego|  CA|1427720|1305910| 0.0933|   325.877|          California|\n",
      "|   9|       Dallas|  TX|1347120|1200350| 0.1223|   339.736|               Texas|\n",
      "|  10|       Austin|  TX|1011790| 806164| 0.2551|   319.939|               Texas|\n",
      "|  11|     San Jose|  CA|1009340| 954940|  0.057|   177.808|          California|\n",
      "|  12|   Fort Worth|  TX| 942323| 748441|  0.259|   345.584|               Texas|\n",
      "|  13| Jacksonville|  FL| 929647| 823114| 0.1294|   747.467|             Florida|\n",
      "|  14|     Columbus|  OH| 913921| 790943| 0.1555|   219.197|                Ohio|\n",
      "|  15|    Charlotte|  NC| 912096| 738444| 0.2352|   307.238|      North Carolina|\n",
      "|  16| Indianapolis|  IN| 887232| 821579| 0.0799|   361.571|             Indiana|\n",
      "|  17|San Francisco|  CA| 883255| 805505| 0.0965|    46.903|          California|\n",
      "|  18|      Seattle|  WA| 776555| 610630| 0.2717|    83.862|          Washington|\n",
      "|  19|       Denver|  CO| 749103| 603359| 0.2416|   153.292|            Colorado|\n",
      "|  20|   Washington|  DC| 714153| 605226|   0.18|    61.136|District of Columbia|\n",
      "+----+-------------+----+-------+-------+-------+----------+--------------------+\n",
      "only showing top 20 rows\n",
      "\n"
     ]
    }
   ],
   "source": [
    "df.join(dfStates, df.usps == dfStates.Abbreviation).drop('Abbreviation').show()"
   ]
  },
  {
   "cell_type": "code",
   "execution_count": null,
   "id": "c1c2b902-e2c0-47f9-8b4d-758920db10dc",
   "metadata": {},
   "outputs": [],
   "source": []
  }
 ],
 "metadata": {
  "kernelspec": {
   "display_name": "Python 3 (ipykernel)",
   "language": "python",
   "name": "python3"
  },
  "language_info": {
   "codemirror_mode": {
    "name": "ipython",
    "version": 3
   },
   "file_extension": ".py",
   "mimetype": "text/x-python",
   "name": "python",
   "nbconvert_exporter": "python",
   "pygments_lexer": "ipython3",
   "version": "3.10.11"
  }
 },
 "nbformat": 4,
 "nbformat_minor": 5
}
