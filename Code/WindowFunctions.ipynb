{
 "cells": [
  {
   "cell_type": "code",
   "execution_count": 1,
   "id": "01fef059-9592-4568-91f2-c182f599ef19",
   "metadata": {},
   "outputs": [],
   "source": [
    "import findspark\n",
    "findspark.init()\n",
    "import pyspark\n",
    "from pyspark.sql import SparkSession"
   ]
  },
  {
   "cell_type": "code",
   "execution_count": 2,
   "id": "6925c615-8bdd-42c9-8dd2-c1b921c2a127",
   "metadata": {},
   "outputs": [
    {
     "name": "stderr",
     "output_type": "stream",
     "text": [
      "Setting default log level to \"WARN\".\n",
      "To adjust logging level use sc.setLogLevel(newLevel). For SparkR, use setLogLevel(newLevel).\n",
      "24/03/26 20:59:21 WARN NativeCodeLoader: Unable to load native-hadoop library for your platform... using builtin-java classes where applicable\n",
      "24/03/26 20:59:22 WARN Utils: Service 'SparkUI' could not bind on port 4040. Attempting port 4041.\n"
     ]
    }
   ],
   "source": [
    "spark = SparkSession.builder.master(\"local[1]\") \\\n",
    "                    .appName('sparkEx') \\\n",
    "                    .getOrCreate()"
   ]
  },
  {
   "cell_type": "code",
   "execution_count": 8,
   "id": "61527a42-ef74-4828-9326-6d2a08645cc8",
   "metadata": {},
   "outputs": [],
   "source": [
    "df = spark.read.csv('/Users/shaytavor/Dropbox/Public/Knowledge Base/Spark/Data/USACities.csv', header = 'True', inferSchema = 'True')\n",
    "df = df.drop('rank')"
   ]
  },
  {
   "cell_type": "code",
   "execution_count": null,
   "id": "6470dcea-a11b-4315-be6b-d8baeaf9e6c8",
   "metadata": {},
   "outputs": [],
   "source": [
    "# row_number example"
   ]
  },
  {
   "cell_type": "code",
   "execution_count": 14,
   "id": "2e301374-00c9-4ec5-a420-3cd8a28a307f",
   "metadata": {},
   "outputs": [
    {
     "name": "stdout",
     "output_type": "stream",
     "text": [
      "+-----------+----+-------+-------+-------+----------+----------+\n",
      "|name       |usps|pop2021|pop2010|growth |aland_sqmi|row_number|\n",
      "+-----------+----+-------+-------+-------+----------+----------+\n",
      "|Anchorage  |AK  |282958 |293321 |-0.0353|1706.8    |1         |\n",
      "|Mobile     |AL  |186542 |194577 |-0.0413|139.465   |1         |\n",
      "|Montgomery |AL  |197777 |205593 |-0.038 |159.882   |2         |\n",
      "|Huntsville |AL  |205472 |180941 |0.1356 |214.363   |3         |\n",
      "|Birmingham |AL  |207235 |212328 |-0.024 |146.076   |4         |\n",
      "|Little Rock|AR  |196968 |193972 |0.0154 |119.992   |1         |\n",
      "|Surprise   |AZ  |149558 |117643 |0.2713 |108.063   |1         |\n",
      "|Peoria     |AZ  |183357 |154846 |0.1841 |175.989   |2         |\n",
      "|Tempe      |AZ  |203923 |162323 |0.2563 |39.977    |3         |\n",
      "|Glendale   |AZ  |257233 |226236 |0.137  |61.592    |4         |\n",
      "|Gilbert    |AZ  |262514 |209493 |0.2531 |68.475    |5         |\n",
      "|Scottsdale |AZ  |265249 |217638 |0.2188 |183.987   |6         |\n",
      "|Chandler   |AZ  |269123 |236454 |0.1382 |65.124    |7         |\n",
      "|Mesa       |AZ  |538146 |440993 |0.2203 |138.085   |8         |\n",
      "|Tucson     |AZ  |554503 |527160 |0.0519 |238.014   |9         |\n",
      "|Phoenix    |AZ  |1733630|1449040|0.1964 |517.673   |10        |\n",
      "|Roseville  |CA  |146594 |119916 |0.2225 |44.079    |1         |\n",
      "|Pomona     |CA  |151223 |149107 |0.0142 |22.982    |2         |\n",
      "|Escondido  |CA  |151289 |144440 |0.0474 |37.314    |3         |\n",
      "|Sunnyvale  |CA  |152495 |140462 |0.0857 |22.03     |4         |\n",
      "+-----------+----+-------+-------+-------+----------+----------+\n",
      "only showing top 20 rows\n",
      "\n"
     ]
    }
   ],
   "source": [
    "from pyspark.sql.window import Window\n",
    "from pyspark.sql.functions import row_number, rank, percent_rank, ntile\n",
    "windowSpec  = Window.partitionBy(\"usps\").orderBy(\"pop2021\")\n",
    "\n",
    "df.withColumn(\"row_number\",row_number().over(windowSpec)) \\\n",
    "    .show(truncate=False)"
   ]
  },
  {
   "cell_type": "code",
   "execution_count": null,
   "id": "ca0a4ea6-1b39-4632-b3de-f253e06e1470",
   "metadata": {},
   "outputs": [],
   "source": [
    "# rank() example"
   ]
  },
  {
   "cell_type": "code",
   "execution_count": 10,
   "id": "84af7dac-d813-422d-aca2-bdb0d7103d14",
   "metadata": {},
   "outputs": [
    {
     "name": "stdout",
     "output_type": "stream",
     "text": [
      "+-----------+----+-------+-------+-------+----------+----+\n",
      "|       name|usps|pop2021|pop2010| growth|aland_sqmi|rank|\n",
      "+-----------+----+-------+-------+-------+----------+----+\n",
      "|  Anchorage|  AK| 282958| 293321|-0.0353|    1706.8|   1|\n",
      "|     Mobile|  AL| 186542| 194577|-0.0413|   139.465|   1|\n",
      "| Montgomery|  AL| 197777| 205593| -0.038|   159.882|   2|\n",
      "| Huntsville|  AL| 205472| 180941| 0.1356|   214.363|   3|\n",
      "| Birmingham|  AL| 207235| 212328| -0.024|   146.076|   4|\n",
      "|Little Rock|  AR| 196968| 193972| 0.0154|   119.992|   1|\n",
      "|   Surprise|  AZ| 149558| 117643| 0.2713|   108.063|   1|\n",
      "|     Peoria|  AZ| 183357| 154846| 0.1841|   175.989|   2|\n",
      "|      Tempe|  AZ| 203923| 162323| 0.2563|    39.977|   3|\n",
      "|   Glendale|  AZ| 257233| 226236|  0.137|    61.592|   4|\n",
      "|    Gilbert|  AZ| 262514| 209493| 0.2531|    68.475|   5|\n",
      "| Scottsdale|  AZ| 265249| 217638| 0.2188|   183.987|   6|\n",
      "|   Chandler|  AZ| 269123| 236454| 0.1382|    65.124|   7|\n",
      "|       Mesa|  AZ| 538146| 440993| 0.2203|   138.085|   8|\n",
      "|     Tucson|  AZ| 554503| 527160| 0.0519|   238.014|   9|\n",
      "|    Phoenix|  AZ|1733630|1449040| 0.1964|   517.673|  10|\n",
      "|  Roseville|  CA| 146594| 119916| 0.2225|    44.079|   1|\n",
      "|     Pomona|  CA| 151223| 149107| 0.0142|    22.982|   2|\n",
      "|  Escondido|  CA| 151289| 144440| 0.0474|    37.314|   3|\n",
      "|  Sunnyvale|  CA| 152495| 140462| 0.0857|     22.03|   4|\n",
      "+-----------+----+-------+-------+-------+----------+----+\n",
      "only showing top 20 rows\n",
      "\n"
     ]
    }
   ],
   "source": [
    "df.withColumn(\"rank\",rank().over(windowSpec)).show()"
   ]
  },
  {
   "cell_type": "code",
   "execution_count": 12,
   "id": "5ed9c7ab-6b3a-4b6f-bf62-faa1b6b06a00",
   "metadata": {},
   "outputs": [
    {
     "name": "stdout",
     "output_type": "stream",
     "text": [
      "+-----------+----+-------+-------+-------+----------+-------------------+\n",
      "|       name|usps|pop2021|pop2010| growth|aland_sqmi|       percent_rank|\n",
      "+-----------+----+-------+-------+-------+----------+-------------------+\n",
      "|  Anchorage|  AK| 282958| 293321|-0.0353|    1706.8|                0.0|\n",
      "|     Mobile|  AL| 186542| 194577|-0.0413|   139.465|                0.0|\n",
      "| Montgomery|  AL| 197777| 205593| -0.038|   159.882| 0.3333333333333333|\n",
      "| Huntsville|  AL| 205472| 180941| 0.1356|   214.363| 0.6666666666666666|\n",
      "| Birmingham|  AL| 207235| 212328| -0.024|   146.076|                1.0|\n",
      "|Little Rock|  AR| 196968| 193972| 0.0154|   119.992|                0.0|\n",
      "|   Surprise|  AZ| 149558| 117643| 0.2713|   108.063|                0.0|\n",
      "|     Peoria|  AZ| 183357| 154846| 0.1841|   175.989| 0.1111111111111111|\n",
      "|      Tempe|  AZ| 203923| 162323| 0.2563|    39.977| 0.2222222222222222|\n",
      "|   Glendale|  AZ| 257233| 226236|  0.137|    61.592| 0.3333333333333333|\n",
      "|    Gilbert|  AZ| 262514| 209493| 0.2531|    68.475| 0.4444444444444444|\n",
      "| Scottsdale|  AZ| 265249| 217638| 0.2188|   183.987| 0.5555555555555556|\n",
      "|   Chandler|  AZ| 269123| 236454| 0.1382|    65.124| 0.6666666666666666|\n",
      "|       Mesa|  AZ| 538146| 440993| 0.2203|   138.085| 0.7777777777777778|\n",
      "|     Tucson|  AZ| 554503| 527160| 0.0519|   238.014| 0.8888888888888888|\n",
      "|    Phoenix|  AZ|1733630|1449040| 0.1964|   517.673|                1.0|\n",
      "|  Roseville|  CA| 146594| 119916| 0.2225|    44.079|                0.0|\n",
      "|     Pomona|  CA| 151223| 149107| 0.0142|    22.982|0.02631578947368421|\n",
      "|  Escondido|  CA| 151289| 144440| 0.0474|    37.314|0.05263157894736842|\n",
      "|  Sunnyvale|  CA| 152495| 140462| 0.0857|     22.03|0.07894736842105263|\n",
      "+-----------+----+-------+-------+-------+----------+-------------------+\n",
      "only showing top 20 rows\n",
      "\n"
     ]
    }
   ],
   "source": [
    "df.withColumn(\"percent_rank\",percent_rank().over(windowSpec)).show()"
   ]
  },
  {
   "cell_type": "code",
   "execution_count": 15,
   "id": "0f0fb537-eb1e-482e-b7b8-e9f0db3025b5",
   "metadata": {},
   "outputs": [
    {
     "name": "stdout",
     "output_type": "stream",
     "text": [
      "+-----------+----+-------+-------+-------+----------+-----+\n",
      "|       name|usps|pop2021|pop2010| growth|aland_sqmi|ntile|\n",
      "+-----------+----+-------+-------+-------+----------+-----+\n",
      "|  Anchorage|  AK| 282958| 293321|-0.0353|    1706.8|    1|\n",
      "|     Mobile|  AL| 186542| 194577|-0.0413|   139.465|    1|\n",
      "| Montgomery|  AL| 197777| 205593| -0.038|   159.882|    1|\n",
      "| Huntsville|  AL| 205472| 180941| 0.1356|   214.363|    2|\n",
      "| Birmingham|  AL| 207235| 212328| -0.024|   146.076|    2|\n",
      "|Little Rock|  AR| 196968| 193972| 0.0154|   119.992|    1|\n",
      "|   Surprise|  AZ| 149558| 117643| 0.2713|   108.063|    1|\n",
      "|     Peoria|  AZ| 183357| 154846| 0.1841|   175.989|    1|\n",
      "|      Tempe|  AZ| 203923| 162323| 0.2563|    39.977|    1|\n",
      "|   Glendale|  AZ| 257233| 226236|  0.137|    61.592|    1|\n",
      "|    Gilbert|  AZ| 262514| 209493| 0.2531|    68.475|    1|\n",
      "| Scottsdale|  AZ| 265249| 217638| 0.2188|   183.987|    2|\n",
      "|   Chandler|  AZ| 269123| 236454| 0.1382|    65.124|    2|\n",
      "|       Mesa|  AZ| 538146| 440993| 0.2203|   138.085|    2|\n",
      "|     Tucson|  AZ| 554503| 527160| 0.0519|   238.014|    2|\n",
      "|    Phoenix|  AZ|1733630|1449040| 0.1964|   517.673|    2|\n",
      "|  Roseville|  CA| 146594| 119916| 0.2225|    44.079|    1|\n",
      "|     Pomona|  CA| 151223| 149107| 0.0142|    22.982|    1|\n",
      "|  Escondido|  CA| 151289| 144440| 0.0474|    37.314|    1|\n",
      "|  Sunnyvale|  CA| 152495| 140462| 0.0857|     22.03|    1|\n",
      "+-----------+----+-------+-------+-------+----------+-----+\n",
      "only showing top 20 rows\n",
      "\n"
     ]
    }
   ],
   "source": [
    "df.withColumn(\"ntile\",ntile(2).over(windowSpec)).show()"
   ]
  },
  {
   "cell_type": "code",
   "execution_count": 17,
   "id": "2e300530-eed1-4339-af26-91aa9dffcb9f",
   "metadata": {},
   "outputs": [
    {
     "name": "stdout",
     "output_type": "stream",
     "text": [
      "+-----------+----+-------+-------+-------+----------+-------------------+\n",
      "|       name|usps|pop2021|pop2010| growth|aland_sqmi|          cume_dist|\n",
      "+-----------+----+-------+-------+-------+----------+-------------------+\n",
      "|  Anchorage|  AK| 282958| 293321|-0.0353|    1706.8|                1.0|\n",
      "|     Mobile|  AL| 186542| 194577|-0.0413|   139.465|               0.25|\n",
      "| Montgomery|  AL| 197777| 205593| -0.038|   159.882|                0.5|\n",
      "| Huntsville|  AL| 205472| 180941| 0.1356|   214.363|               0.75|\n",
      "| Birmingham|  AL| 207235| 212328| -0.024|   146.076|                1.0|\n",
      "|Little Rock|  AR| 196968| 193972| 0.0154|   119.992|                1.0|\n",
      "|   Surprise|  AZ| 149558| 117643| 0.2713|   108.063|                0.1|\n",
      "|     Peoria|  AZ| 183357| 154846| 0.1841|   175.989|                0.2|\n",
      "|      Tempe|  AZ| 203923| 162323| 0.2563|    39.977|                0.3|\n",
      "|   Glendale|  AZ| 257233| 226236|  0.137|    61.592|                0.4|\n",
      "|    Gilbert|  AZ| 262514| 209493| 0.2531|    68.475|                0.5|\n",
      "| Scottsdale|  AZ| 265249| 217638| 0.2188|   183.987|                0.6|\n",
      "|   Chandler|  AZ| 269123| 236454| 0.1382|    65.124|                0.7|\n",
      "|       Mesa|  AZ| 538146| 440993| 0.2203|   138.085|                0.8|\n",
      "|     Tucson|  AZ| 554503| 527160| 0.0519|   238.014|                0.9|\n",
      "|    Phoenix|  AZ|1733630|1449040| 0.1964|   517.673|                1.0|\n",
      "|  Roseville|  CA| 146594| 119916| 0.2225|    44.079|0.02564102564102564|\n",
      "|     Pomona|  CA| 151223| 149107| 0.0142|    22.982|0.05128205128205128|\n",
      "|  Escondido|  CA| 151289| 144440| 0.0474|    37.314|0.07692307692307693|\n",
      "|  Sunnyvale|  CA| 152495| 140462| 0.0857|     22.03|0.10256410256410256|\n",
      "+-----------+----+-------+-------+-------+----------+-------------------+\n",
      "only showing top 20 rows\n",
      "\n"
     ]
    }
   ],
   "source": [
    "from pyspark.sql.functions import cume_dist, lag \n",
    "df.withColumn(\"cume_dist\",cume_dist().over(windowSpec)).show()"
   ]
  },
  {
   "cell_type": "code",
   "execution_count": 18,
   "id": "1e75eb9a-952a-48bb-86f5-78f652818529",
   "metadata": {},
   "outputs": [
    {
     "name": "stdout",
     "output_type": "stream",
     "text": [
      "+-----------+----+-------+-------+-------+----------+------+\n",
      "|       name|usps|pop2021|pop2010| growth|aland_sqmi|   lag|\n",
      "+-----------+----+-------+-------+-------+----------+------+\n",
      "|  Anchorage|  AK| 282958| 293321|-0.0353|    1706.8|  NULL|\n",
      "|     Mobile|  AL| 186542| 194577|-0.0413|   139.465|  NULL|\n",
      "| Montgomery|  AL| 197777| 205593| -0.038|   159.882|  NULL|\n",
      "| Huntsville|  AL| 205472| 180941| 0.1356|   214.363|186542|\n",
      "| Birmingham|  AL| 207235| 212328| -0.024|   146.076|197777|\n",
      "|Little Rock|  AR| 196968| 193972| 0.0154|   119.992|  NULL|\n",
      "|   Surprise|  AZ| 149558| 117643| 0.2713|   108.063|  NULL|\n",
      "|     Peoria|  AZ| 183357| 154846| 0.1841|   175.989|  NULL|\n",
      "|      Tempe|  AZ| 203923| 162323| 0.2563|    39.977|149558|\n",
      "|   Glendale|  AZ| 257233| 226236|  0.137|    61.592|183357|\n",
      "|    Gilbert|  AZ| 262514| 209493| 0.2531|    68.475|203923|\n",
      "| Scottsdale|  AZ| 265249| 217638| 0.2188|   183.987|257233|\n",
      "|   Chandler|  AZ| 269123| 236454| 0.1382|    65.124|262514|\n",
      "|       Mesa|  AZ| 538146| 440993| 0.2203|   138.085|265249|\n",
      "|     Tucson|  AZ| 554503| 527160| 0.0519|   238.014|269123|\n",
      "|    Phoenix|  AZ|1733630|1449040| 0.1964|   517.673|538146|\n",
      "|  Roseville|  CA| 146594| 119916| 0.2225|    44.079|  NULL|\n",
      "|     Pomona|  CA| 151223| 149107| 0.0142|    22.982|  NULL|\n",
      "|  Escondido|  CA| 151289| 144440| 0.0474|    37.314|146594|\n",
      "|  Sunnyvale|  CA| 152495| 140462| 0.0857|     22.03|151223|\n",
      "+-----------+----+-------+-------+-------+----------+------+\n",
      "only showing top 20 rows\n",
      "\n"
     ]
    }
   ],
   "source": [
    "df.withColumn(\"lag\",lag(\"pop2021\",2).over(windowSpec)).show()"
   ]
  },
  {
   "cell_type": "code",
   "execution_count": 20,
   "id": "7f68e9fe-f3ee-415f-83b8-a9eb58097811",
   "metadata": {},
   "outputs": [
    {
     "name": "stdout",
     "output_type": "stream",
     "text": [
      "+----+-----------------+------+-------+\n",
      "|usps|              avg|   min|    max|\n",
      "+----+-----------------+------+-------+\n",
      "|  AK|         282958.0|282958| 282958|\n",
      "|  AL|         199256.5|186542| 207235|\n",
      "|  AR|         196968.0|196968| 196968|\n",
      "|  AZ|         441723.6|149558|1733630|\n",
      "|  CA|409410.5641025641|146594|3983540|\n",
      "|  CO|351260.8333333333|145688| 749103|\n",
      "|  CT|         143653.0|143653| 143653|\n",
      "|  DC|         714153.0|714153| 714153|\n",
      "|  FL|         298217.0|142445| 929647|\n",
      "|  GA|        269080.25|153671| 524067|\n",
      "|  HI|         341302.0|341302| 341302|\n",
      "|  IA|         210723.0|210723| 210723|\n",
      "|  ID|         229993.0|229993| 229993|\n",
      "|  IL|         662781.0|144213|2679080|\n",
      "|  IN|         581759.0|276286| 887232|\n",
      "|  KS|        221863.75|142119| 391352|\n",
      "|  KY|         470264.0|324604| 615924|\n",
      "|  LA|        232375.75|142135| 388424|\n",
      "|  MA|         344280.0|152160| 695506|\n",
      "|  MD|         575584.0|575584| 575584|\n",
      "+----+-----------------+------+-------+\n",
      "only showing top 20 rows\n",
      "\n"
     ]
    }
   ],
   "source": [
    "from pyspark.sql.functions import col,avg,sum,min,max\n",
    "windowSpecAgg  = Window.partitionBy(\"usps\")\n",
    "df.withColumn(\"row\",row_number().over(windowSpec)) \\\n",
    "  .withColumn(\"avg\", avg(col(\"pop2021\")).over(windowSpecAgg)) \\\n",
    "  .withColumn(\"min\", min(col(\"pop2021\")).over(windowSpecAgg)) \\\n",
    "  .withColumn(\"max\", max(col(\"pop2021\")).over(windowSpecAgg)) \\\n",
    "  .where(col(\"row\") == 1).select(\"usps\", \"avg\", \"min\", \"max\").show() "
   ]
  },
  {
   "cell_type": "code",
   "execution_count": null,
   "id": "bcc582b3-58ee-4b40-abe2-5c0f1c749888",
   "metadata": {},
   "outputs": [],
   "source": [
    "# moving average"
   ]
  },
  {
   "cell_type": "code",
   "execution_count": 22,
   "id": "e8fb961c-2584-4fcf-9eb6-327e6560d7d2",
   "metadata": {},
   "outputs": [
    {
     "name": "stdout",
     "output_type": "stream",
     "text": [
      "+----------+-----+\n",
      "|      date|sales|\n",
      "+----------+-----+\n",
      "|2024-01-01|  100|\n",
      "|2024-01-02|  150|\n",
      "|2024-01-03|  200|\n",
      "|2024-01-04|   50|\n",
      "|2024-01-05|  120|\n",
      "+----------+-----+\n",
      "\n"
     ]
    }
   ],
   "source": [
    "data = [(\"2024-01-01\", 100),\n",
    "        (\"2024-01-02\", 150),\n",
    "        (\"2024-01-03\", 200),\n",
    "        (\"2024-01-04\", 50),\n",
    "        (\"2024-01-05\", 120)]\n",
    "dfTimeSeries = spark.createDataFrame(data, [\"date\", \"sales\"])\n",
    "dfTimeSeries.show()"
   ]
  },
  {
   "cell_type": "code",
   "execution_count": 23,
   "id": "da545d26-50f9-4701-b2ae-efbcf610483a",
   "metadata": {},
   "outputs": [],
   "source": [
    "# create a window with 3 rows\n",
    "windowSpec = Window.orderBy(col(\"date\")).rowsBetween(-2, 0)"
   ]
  },
  {
   "cell_type": "code",
   "execution_count": 26,
   "id": "398b38b2-49ed-4135-8277-ab91e1a9d4c5",
   "metadata": {},
   "outputs": [
    {
     "name": "stdout",
     "output_type": "stream",
     "text": [
      "+----------+-----+-----------+------------------+\n",
      "|      date|sales|rolling_sum|       rolling_avg|\n",
      "+----------+-----+-----------+------------------+\n",
      "|2024-01-01|  100|        100|             100.0|\n",
      "|2024-01-02|  150|        250|             125.0|\n",
      "|2024-01-03|  200|        450|             150.0|\n",
      "|2024-01-04|   50|        400|133.33333333333334|\n",
      "|2024-01-05|  120|        370|123.33333333333333|\n",
      "+----------+-----+-----------+------------------+\n",
      "\n"
     ]
    },
    {
     "name": "stderr",
     "output_type": "stream",
     "text": [
      "24/03/26 23:38:36 WARN WindowExec: No Partition Defined for Window operation! Moving all data to a single partition, this can cause serious performance degradation.\n",
      "24/03/26 23:38:36 WARN WindowExec: No Partition Defined for Window operation! Moving all data to a single partition, this can cause serious performance degradation.\n",
      "24/03/26 23:38:36 WARN WindowExec: No Partition Defined for Window operation! Moving all data to a single partition, this can cause serious performance degradation.\n",
      "24/03/26 23:38:37 WARN WindowExec: No Partition Defined for Window operation! Moving all data to a single partition, this can cause serious performance degradation.\n",
      "24/03/26 23:38:37 WARN WindowExec: No Partition Defined for Window operation! Moving all data to a single partition, this can cause serious performance degradation.\n"
     ]
    }
   ],
   "source": [
    "dfTimeSeries.withColumn(\"rolling_sum\", sum(\"sales\").over(windowSpec)) \\\n",
    "            .withColumn(\"rolling_avg\", avg(\"sales\").over(windowSpec)).show()"
   ]
  },
  {
   "cell_type": "code",
   "execution_count": 30,
   "id": "6b863da8-d1ba-48b6-b5a2-843cee934603",
   "metadata": {},
   "outputs": [],
   "source": [
    "from pyspark.sql.functions import window\n",
    "data = [(\"2024-01-01 09:00:00\", 100),\n",
    "        (\"2024-01-01 09:00:01\", 150),\n",
    "        (\"2024-01-01 09:00:02\", 200),\n",
    "        (\"2024-01-01 09:00:03\", 50),\n",
    "        (\"2024-01-01 09:00:04\", 120), \n",
    "        (\"2024-01-01 09:00:05\", 120)]\n",
    "dfTimeSeries = spark.createDataFrame(data, [\"date\", \"value\"])"
   ]
  },
  {
   "cell_type": "code",
   "execution_count": 32,
   "id": "82c7090c-4bd0-40f9-948a-c456030fb11d",
   "metadata": {},
   "outputs": [
    {
     "name": "stdout",
     "output_type": "stream",
     "text": [
      "+--------------------+---+\n",
      "|              window|sum|\n",
      "+--------------------+---+\n",
      "|{2024-01-01 09:00...|290|\n",
      "|{2024-01-01 09:00...|450|\n",
      "+--------------------+---+\n",
      "\n"
     ]
    }
   ],
   "source": [
    "w = dfTimeSeries.groupBy(window(\"date\", \"3 seconds\")).agg(sum(\"value\").alias(\"sum\"))\n",
    "w.show()"
   ]
  },
  {
   "cell_type": "code",
   "execution_count": null,
   "id": "8416410a-0f84-47d0-9d27-3e6fe5b581f5",
   "metadata": {},
   "outputs": [],
   "source": [
    "# broadcast variable"
   ]
  },
  {
   "cell_type": "code",
   "execution_count": 36,
   "id": "102b6bdb-b178-4e9a-9bd9-94fda755e46d",
   "metadata": {},
   "outputs": [],
   "source": [
    "from pyspark.sql.functions import col, udf\n",
    "states = {\"NY\":\"New York\", \"CA\":\"California\", \"FL\":\"Florida\"}\n",
    "broadcastStates = spark.sparkContext.broadcast(states)\n"
   ]
  },
  {
   "cell_type": "code",
   "execution_count": 37,
   "id": "842bf44a-a6ee-49f9-9640-4320eab28865",
   "metadata": {},
   "outputs": [],
   "source": [
    "def state_convert(code):\n",
    "    return broadcastStates.value[code]"
   ]
  },
  {
   "cell_type": "code",
   "execution_count": 39,
   "id": "12b65412-a5d5-46b4-b434-eb7f4fc3b16a",
   "metadata": {},
   "outputs": [],
   "source": [
    "stateUDF = udf(lambda x : state_convert(x))\n",
    "result = df.withColumn(\"state\", stateUDF(df.usps))"
   ]
  },
  {
   "cell_type": "code",
   "execution_count": null,
   "id": "316c2355-5d42-4f44-9f90-ce079dbb1fdd",
   "metadata": {},
   "outputs": [],
   "source": [
    "# accumulators"
   ]
  },
  {
   "cell_type": "code",
   "execution_count": 40,
   "id": "9d1dde7f-8cdc-414f-acee-eb4e419c38bb",
   "metadata": {},
   "outputs": [
    {
     "name": "stdout",
     "output_type": "stream",
     "text": [
      "15\n",
      "15\n",
      "5\n"
     ]
    }
   ],
   "source": [
    "accum=spark.sparkContext.accumulator(0)\n",
    "rdd=spark.sparkContext.parallelize([1,2,3,4,5])\n",
    "rdd.foreach(lambda x:accum.add(x))\n",
    "print(accum.value)\n",
    "\n",
    "accuSum=spark.sparkContext.accumulator(0)\n",
    "def countFun(x):\n",
    "    global accuSum\n",
    "    accuSum+=x\n",
    "rdd.foreach(countFun)\n",
    "print(accuSum.value)\n",
    "\n",
    "accumCount=spark.sparkContext.accumulator(0)\n",
    "rdd2=spark.sparkContext.parallelize([1,2,3,4,5])\n",
    "rdd2.foreach(lambda x:accumCount.add(1))\n",
    "print(accumCount.value)"
   ]
  },
  {
   "cell_type": "code",
   "execution_count": null,
   "id": "25dfb884-0124-459b-9870-43d706b25be4",
   "metadata": {},
   "outputs": [],
   "source": []
  }
 ],
 "metadata": {
  "kernelspec": {
   "display_name": "Python 3 (ipykernel)",
   "language": "python",
   "name": "python3"
  },
  "language_info": {
   "codemirror_mode": {
    "name": "ipython",
    "version": 3
   },
   "file_extension": ".py",
   "mimetype": "text/x-python",
   "name": "python",
   "nbconvert_exporter": "python",
   "pygments_lexer": "ipython3",
   "version": "3.10.11"
  }
 },
 "nbformat": 4,
 "nbformat_minor": 5
}
